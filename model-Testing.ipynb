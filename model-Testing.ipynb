{
 "cells": [
  {
   "cell_type": "code",
   "execution_count": 1,
   "id": "37347087-d7c5-472a-bbda-f3fb546b16d6",
   "metadata": {},
   "outputs": [],
   "source": [
    "import numpy as np\n",
    "from joblib import  dump,load\n",
    "model = load(\"real-estate.joblib\")"
   ]
  },
  {
   "cell_type": "code",
   "execution_count": 10,
   "id": "5198193b-fc87-494e-9d11-6fc85bef930b",
   "metadata": {},
   "outputs": [],
   "source": [
    "input =  np.array([[-10.43942006,  12.12628155, -1.12165014, -0.27288841, -1.42262747,\n",
    "       -1.01979304, -2.31238772, 5.61111401, -1.0016859 , -1.5778192 ,\n",
    "       -0.97491834,  0.41164221, -1.86091034]])"
   ]
  },
  {
   "cell_type": "code",
   "execution_count": 11,
   "id": "013fc462-44c8-4d8d-a144-11d8c41d4486",
   "metadata": {},
   "outputs": [
    {
     "data": {
      "text/plain": [
       "array([25.3])"
      ]
     },
     "execution_count": 11,
     "metadata": {},
     "output_type": "execute_result"
    }
   ],
   "source": [
    "model.predict(input)"
   ]
  },
  {
   "cell_type": "code",
   "execution_count": null,
   "id": "01c590c8-e4a2-4f62-aa90-aa0eb65e5501",
   "metadata": {},
   "outputs": [],
   "source": []
  }
 ],
 "metadata": {
  "kernelspec": {
   "display_name": "Python 3 (ipykernel)",
   "language": "python",
   "name": "python3"
  },
  "language_info": {
   "codemirror_mode": {
    "name": "ipython",
    "version": 3
   },
   "file_extension": ".py",
   "mimetype": "text/x-python",
   "name": "python",
   "nbconvert_exporter": "python",
   "pygments_lexer": "ipython3",
   "version": "3.10.1"
  }
 },
 "nbformat": 4,
 "nbformat_minor": 5
}
